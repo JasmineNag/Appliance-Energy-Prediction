{
  "nbformat": 4,
  "nbformat_minor": 0,
  "metadata": {
    "colab": {
      "private_outputs": true,
      "provenance": [],
      "collapsed_sections": [
        "vncDsAP0Gaoa",
        "FJNUwmbgGyua",
        "w6K7xa23Elo4",
        "yQaldy8SH6Dl",
        "PH-0ReGfmX4f",
        "mDgbUHAGgjLW",
        "O_i_v8NEhb9l",
        "HhfV-JJviCcP",
        "Y3lxredqlCYt",
        "3RnN4peoiCZX",
        "x71ZqKXriCWQ",
        "7hBIi_osiCS2",
        "JlHwYmJAmNHm",
        "35m5QtbWiB9F",
        "PoPl-ycgm1ru",
        "H0kj-8xxnORC",
        "nA9Y7ga8ng1Z",
        "PBTbrJXOngz2",
        "u3PMJOP6ngxN",
        "dauF4eBmngu3",
        "bKJF3rekwFvQ",
        "MSa1f5Uengrz",
        "GF8Ens_Soomf",
        "0wOQAZs5pc--",
        "K5QZ13OEpz2H",
        "lQ7QKXXCp7Bj",
        "448CDAPjqfQr",
        "KSlN3yHqYklG",
        "t6dVpIINYklI",
        "ijmpgYnKYklI",
        "-JiQyfWJYklI",
        "EM7whBJCYoAo",
        "fge-S5ZAYoAp",
        "85gYPyotYoAp",
        "RoGjAbkUYoAp",
        "4Of9eVA-YrdM",
        "iky9q4vBYrdO",
        "F6T5p64dYrdO",
        "y-Ehk30pYrdP",
        "bamQiAODYuh1",
        "QHF8YVU7Yuh3",
        "GwzvFGzlYuh3",
        "qYpmQ266Yuh3",
        "OH-pJp9IphqM",
        "bbFf2-_FphqN",
        "_ouA3fa0phqN",
        "Seke61FWphqN",
        "PIIx-8_IphqN",
        "t27r6nlMphqO",
        "r2jJGEOYphqO",
        "b0JNsNcRphqO",
        "BZR9WyysphqO",
        "jj7wYXLtphqO",
        "eZrbJ2SmphqO",
        "rFu4xreNphqO",
        "YJ55k-q6phqO",
        "gCFgpxoyphqP",
        "OVtJsKN_phqQ",
        "lssrdh5qphqQ",
        "U2RJ9gkRphqQ",
        "1M8mcRywphqQ",
        "tgIPom80phqQ",
        "JMzcOPDDphqR",
        "x-EpHcCOp1ci",
        "X_VqEhTip1ck",
        "8zGJKyg5p1ck",
        "PVzmfK_Ep1ck",
        "n3dbpmDWp1ck",
        "ylSl6qgtp1ck",
        "ZWILFDl5p1ck",
        "M7G43BXep1ck",
        "Ag9LCva-p1cl",
        "E6MkPsBcp1cl",
        "2cELzS2fp1cl",
        "3MPXvC8up1cl",
        "NC_X3p0fY2L0",
        "UV0SzAkaZNRQ",
        "YPEH6qLeZNRQ",
        "q29F0dvdveiT",
        "EXh0U9oCveiU",
        "22aHeOlLveiV",
        "JcMwzZxoAimU",
        "8G2x9gOozGDZ",
        "gCX9965dhzqZ",
        "gIfDvo9L0UH2"
      ],
      "include_colab_link": true
    },
    "kernelspec": {
      "name": "python3",
      "display_name": "Python 3"
    },
    "language_info": {
      "name": "python"
    },
    "accelerator": "TPU",
    "gpuClass": "standard"
  },
  "cells": [
    {
      "cell_type": "markdown",
      "metadata": {
        "id": "view-in-github",
        "colab_type": "text"
      },
      "source": [
        "<a href=\"https://colab.research.google.com/github/JasmineNag/Appliance-Energy-Prediction/blob/main/Copy_of_EDA_Appliances_Energy_Prediction_ipynb_individual.ipynb\" target=\"_parent\"><img src=\"https://colab.research.google.com/assets/colab-badge.svg\" alt=\"Open In Colab\"/></a>"
      ]
    },
    {
      "cell_type": "markdown",
      "source": [
        "# **Project Name**    - \n",
        "\n",
        "APPLIANCES ENERGY PREDICTION"
      ],
      "metadata": {
        "id": "vncDsAP0Gaoa"
      }
    },
    {
      "cell_type": "markdown",
      "source": [
        "##### **Project Type**    - EDA\n",
        "##### **Contribution**    - Individual\n"
      ],
      "metadata": {
        "id": "beRrZCGUAJYm"
      }
    },
    {
      "cell_type": "markdown",
      "source": [
        "# **Project Summary -**"
      ],
      "metadata": {
        "id": "FJNUwmbgGyua"
      }
    },
    {
      "cell_type": "markdown",
      "source": [
        "The purpose of this project is to forecast the electricity consumption of a particular household in Belgium based on the temperature and humidity levels of various rooms in the facility and surrounding weather information over 4.5 months. The data set runs 4.5 months at 10 minutes. A ZigBee wireless sensor network is being used to monitor the home’s temperature and humidity levels. Around 3.3 minutes, each wireless node sent the temperature and humidity data. The wireless data was then averaged across intervals of 10 minutes. Every 10 minutes, m-bus energy meters collected the energy data. The experimental data sets were combined with the weather data from the closest airport weather station (Chievres Airport, Belgium), which was extracted from a public data set from Reliable Prognosis (rp5.ru). The data set has two random variables to test the regression models and exclude non-predictive characteristics (parameters).\n",
        "\n",
        "In this project, we have examined various concrete formulations with different Appliancess. We developed a graphs/charts that aligns to the available information. Utilizing model as a framework, we developed a fresh formulation and, being used to predicted the Appliances.\n",
        "\n",
        "In histogram charts, 75% of Appliance consumption is less than 100 Wh . With the maximum consumption of 1080 Wh , there will be outliers in this column and there are small number of cases where consumption is very high.\n",
        "\n",
        "The Insights from bar chart analysis for weedays ,the consumption is higher on weekends , ie week number 0, 6, 5\n",
        "\n",
        "For hour analysis ,the consumption is high in the evening time , ie hour between 16 and 20\n",
        "\n",
        "With the hep of EDA ,one can easily analyse the datasets ."
      ],
      "metadata": {
        "id": "F6v_1wHtG2nS"
      }
    },
    {
      "cell_type": "markdown",
      "source": [
        "# **GitHub Link -**"
      ],
      "metadata": {
        "id": "w6K7xa23Elo4"
      }
    },
    {
      "cell_type": "markdown",
      "source": [
        "https://github.com/JasmineNag/Appliance-Energy-Prediction.git"
      ],
      "metadata": {
        "id": "h1o69JH3Eqqn"
      }
    },
    {
      "cell_type": "markdown",
      "source": [
        "# **Problem Statement**\n"
      ],
      "metadata": {
        "id": "yQaldy8SH6Dl"
      }
    },
    {
      "cell_type": "markdown",
      "source": [
        "The increasing trend in energy consumption is becoming cause of concern for the entire world, as the energy consumption is increasing year after year so is the carbon and greenhouse gas emission, the majority portion of the electricity generated is consumed by industrial sector but a considerable amount is also consumed by residential sector. It is important to study the energy consuming behaviour in the residential sector and predict the energy consumption by home appliances as it consume maximum amount of energy in the residence. This project focuses on predicting the energy consumption of home appliances based on humidity and temperature."
      ],
      "metadata": {
        "id": "DpeJGUA3kjGy"
      }
    },
    {
      "cell_type": "markdown",
      "source": [
        "#### **Define Your Business Objective?**"
      ],
      "metadata": {
        "id": "PH-0ReGfmX4f"
      }
    },
    {
      "cell_type": "markdown",
      "source": [
        "To predict Appliance energy consumption for a house based on factors like temperature, humidity & pressure ."
      ],
      "metadata": {
        "id": "PhDvGCAqmjP1"
      }
    },
    {
      "cell_type": "markdown",
      "source": [
        "# **General Guidelines** : -  "
      ],
      "metadata": {
        "id": "mDgbUHAGgjLW"
      }
    },
    {
      "cell_type": "markdown",
      "source": [
        "1.   Well-structured, formatted, and commented code is required. \n",
        "2.   Exception Handling, Production Grade Code & Deployment Ready Code will be a plus. Those students will be awarded some additional credits. \n",
        "     \n",
        "     The additional credits will have advantages over other students during Star Student selection.\n",
        "       \n",
        "             [ Note: - Deployment Ready Code is defined as, the whole .ipynb notebook should be executable in one go\n",
        "                       without a single error logged. ]\n",
        "\n",
        "3.   Each and every logic should have proper comments.\n",
        "4. You may add as many number of charts you want. Make Sure for each and every chart the following format should be answered.\n",
        "        \n",
        "\n",
        "```\n",
        "# Chart visualization code\n",
        "```\n",
        "            \n",
        "\n",
        "*   Why did you pick the specific chart?\n",
        "*   What is/are the insight(s) found from the chart?\n",
        "* Will the gained insights help creating a positive business impact? \n",
        "Are there any insights that lead to negative growth? Justify with specific reason.\n",
        "\n",
        "5. You have to create at least 20 logical & meaningful charts having important insights.\n",
        "\n",
        "\n",
        "[ Hints : - Do the Vizualization in  a structured way while following \"UBM\" Rule. \n",
        "\n",
        "U - Univariate Analysis,\n",
        "\n",
        "B - Bivariate Analysis (Numerical - Categorical, Numerical - Numerical, Categorical - Categorical)\n",
        "\n",
        "M - Multivariate Analysis\n",
        " ]\n",
        "\n",
        "\n",
        "\n"
      ],
      "metadata": {
        "id": "ZrxVaUj-hHfC"
      }
    },
    {
      "cell_type": "markdown",
      "source": [
        "# ***Let's Begin !***"
      ],
      "metadata": {
        "id": "O_i_v8NEhb9l"
      }
    },
    {
      "cell_type": "markdown",
      "source": [
        "## ***1. Know Your Data***"
      ],
      "metadata": {
        "id": "HhfV-JJviCcP"
      }
    },
    {
      "cell_type": "markdown",
      "source": [
        "### Import Libraries"
      ],
      "metadata": {
        "id": "Y3lxredqlCYt"
      }
    },
    {
      "cell_type": "code",
      "source": [
        "# Import Libraries\n",
        "import pandas as pd\n",
        "import numpy as np\n",
        "import matplotlib.pyplot as plt\n",
        "%matplotlib inline\n",
        "import seaborn as sns\n",
        "import missingno as mno\n",
        "import warnings"
      ],
      "metadata": {
        "id": "M8Vqi-pPk-HR"
      },
      "execution_count": null,
      "outputs": []
    },
    {
      "cell_type": "markdown",
      "source": [
        "### Dataset Loading"
      ],
      "metadata": {
        "id": "3RnN4peoiCZX"
      }
    },
    {
      "cell_type": "code",
      "source": [
        "# Load Dataset\n",
        "from google.colab import drive\n",
        "\n",
        "drive.mount('/content/drive')"
      ],
      "metadata": {
        "id": "4CkvbW_SlZ_R"
      },
      "execution_count": null,
      "outputs": []
    },
    {
      "cell_type": "code",
      "source": [
        "path=('/content/drive/MyDrive/Colab Notebooks/CAPSTONE PROJECT2/Appliance Energy Prediction/data_application_energy.csv')"
      ],
      "metadata": {
        "id": "c3m_Sss7qcT0"
      },
      "execution_count": null,
      "outputs": []
    },
    {
      "cell_type": "code",
      "source": [
        "appliance_energy=pd.read_csv('/content/drive/MyDrive/Colab Notebooks/CAPSTONE PROJECT2/Appliance Energy Prediction/data_application_energy.csv')"
      ],
      "metadata": {
        "id": "sIPdwTHCzyWc"
      },
      "execution_count": null,
      "outputs": []
    },
    {
      "cell_type": "markdown",
      "source": [
        "### Dataset First View"
      ],
      "metadata": {
        "id": "x71ZqKXriCWQ"
      }
    },
    {
      "cell_type": "code",
      "source": [
        "# Dataset First Look\n",
        "appliance_energy.head()"
      ],
      "metadata": {
        "id": "LWNFOSvLl09H"
      },
      "execution_count": null,
      "outputs": []
    },
    {
      "cell_type": "markdown",
      "source": [
        "### Dataset Rows & Columns count"
      ],
      "metadata": {
        "id": "7hBIi_osiCS2"
      }
    },
    {
      "cell_type": "code",
      "source": [
        "# Dataset Rows & Columns count\n",
        "appliance_energy.shape"
      ],
      "metadata": {
        "id": "Kllu7SJgmLij"
      },
      "execution_count": null,
      "outputs": []
    },
    {
      "cell_type": "markdown",
      "source": [
        "**No of rows=19375**\n",
        "\n",
        "**No of columns=27(2 random variables included)**\n",
        "\n",
        "**All features are numerical. No categorical Variables.**"
      ],
      "metadata": {
        "id": "WL14SWom6cqR"
      }
    },
    {
      "cell_type": "markdown",
      "source": [
        "### Dataset Information"
      ],
      "metadata": {
        "id": "JlHwYmJAmNHm"
      }
    },
    {
      "cell_type": "code",
      "source": [
        "# Dataset Info\n",
        "appliance_energy.info()"
      ],
      "metadata": {
        "id": "e9hRXRi6meOf"
      },
      "execution_count": null,
      "outputs": []
    },
    {
      "cell_type": "markdown",
      "source": [
        "#### Duplicate Values"
      ],
      "metadata": {
        "id": "35m5QtbWiB9F"
      }
    },
    {
      "cell_type": "code",
      "source": [
        "# Dataset Duplicate Value Count\n",
        "appliance_energy.duplicated().sum()"
      ],
      "metadata": {
        "id": "1sLdpKYkmox0"
      },
      "execution_count": null,
      "outputs": []
    },
    {
      "cell_type": "markdown",
      "source": [
        "#### Missing Values/Null Values"
      ],
      "metadata": {
        "id": "PoPl-ycgm1ru"
      }
    },
    {
      "cell_type": "code",
      "source": [
        "# Missing Values/Null Values Count\n",
        "\n",
        "appliance_energy.isnull().sum()"
      ],
      "metadata": {
        "id": "GgHWkxvamxVg"
      },
      "execution_count": null,
      "outputs": []
    },
    {
      "cell_type": "markdown",
      "source": [
        "There seems to be no null values in data sets."
      ],
      "metadata": {
        "id": "ORo3zjkS8g0Q"
      }
    },
    {
      "cell_type": "code",
      "source": [
        "# Visualizing the missing values\n",
        "mno.bar(appliance_energy)"
      ],
      "metadata": {
        "id": "3q5wnI3om9sJ"
      },
      "execution_count": null,
      "outputs": []
    },
    {
      "cell_type": "markdown",
      "source": [
        "Each bar represents a column within the dataframe. The height of the bar indicates the level of missing values in that column: the lower the bar is, the more missing values it has. The left side of the plot indicates the percentage of data completeness (where 1.0 = 100%). The right side shows the number of rows."
      ],
      "metadata": {
        "id": "kSEPhHtX6Pt0"
      }
    },
    {
      "cell_type": "markdown",
      "source": [
        "### What did you know about your dataset?"
      ],
      "metadata": {
        "id": "H0kj-8xxnORC"
      }
    },
    {
      "cell_type": "markdown",
      "source": [
        "\n",
        "In info  section, there are 19735 rows and 29 columns .The datasets has 0 duplicate count value and no missing value in the data sets."
      ],
      "metadata": {
        "id": "gfoNAAC-nUe_"
      }
    },
    {
      "cell_type": "markdown",
      "source": [
        "## ***2. Understanding Your Variables***"
      ],
      "metadata": {
        "id": "nA9Y7ga8ng1Z"
      }
    },
    {
      "cell_type": "code",
      "source": [
        "# Dataset Columns\n",
        "appliance_energy.columns"
      ],
      "metadata": {
        "id": "j7xfkqrt5Ag5"
      },
      "execution_count": null,
      "outputs": []
    },
    {
      "cell_type": "code",
      "source": [
        "# Dataset Describe\n",
        "appliance_energy.describe()"
      ],
      "metadata": {
        "id": "mzUI0Zqb9cRt"
      },
      "execution_count": null,
      "outputs": []
    },
    {
      "cell_type": "markdown",
      "source": [
        "### Variables Description "
      ],
      "metadata": {
        "id": "PBTbrJXOngz2"
      }
    },
    {
      "cell_type": "markdown",
      "source": [
        "Date: time (yr:mon:day:hr:min:sec) \n",
        "\n",
        "Appliances: energy use in Wh \n",
        "\n",
        "lights: Energy use of light fixtures in the house(Wh)\n",
        "\n",
        "T1: Temperature in kitchen area(C) \n",
        "\n",
        "RH_1: Humidity in kitchen area(%)\n",
        "\n",
        "T2: Temperature in living room area(C)\n",
        "\n",
        " RH_2: Humidity in living room(%)\n",
        "\n",
        "T3: Temperature in laundry room\n",
        "\n",
        " RH_3: Humidity in laundry room area(%)\n",
        "\n",
        "T4: Temperature in office room(C) \n",
        "\n",
        "RH_4: Humidity in office room(%)\n",
        "\n",
        "T5: Temperature in bathroom in (C)\n",
        "\n",
        " RH_5: Humidity in bathroom(%)\n",
        "\n",
        "T6: Temperature outside the building (north side) in (C)\n",
        " \n",
        " RH_6: Humidity outside the building (northside)%\n",
        "\n",
        "T7: Temperature in ironing room in (C) \n",
        "\n",
        "RH_7: Humidity in ironing room in (%)\n",
        "\n",
        "T8:Temperature in teenager room 2 in (C)\n",
        "\n",
        " RH_8: Humidity in teenager room 2 in (%)\n",
        "\n",
        "T9: Temperature in parents room in (C)\n",
        "\n",
        " RH_9: Humidity in parents room in %\n",
        "\n",
        "To: Temperature outside (from Chievres weather station) in (C)\n",
        "\n",
        " Pressure (from Chievres weather station): in mm Hg \n",
        "\n",
        "RH_out: Humidity outside (from Chievres weather station) in (%) \n",
        "\n",
        "Wind speed (from Chievres weather station): in(m/s) \n",
        "\n",
        "Visibility (from Chievres weather station): Ordinal data\n",
        "\n",
        " Tdewpoint (from Chievres weather station): Cat data\n",
        "\n",
        " rv1: Random variable 1(nondimensional) \n",
        " \n",
        " rav2: Random variable 2(nondimensional)"
      ],
      "metadata": {
        "id": "aJV4KIxSnxay"
      }
    },
    {
      "cell_type": "markdown",
      "source": [
        "### Check Unique Values for each variable."
      ],
      "metadata": {
        "id": "u3PMJOP6ngxN"
      }
    },
    {
      "cell_type": "code",
      "source": [
        "# Check Unique Values for each variable.\n",
        "appliance_energy.apply(lambda x: len(x.unique()))"
      ],
      "metadata": {
        "id": "zms12Yq5n-jE"
      },
      "execution_count": null,
      "outputs": []
    },
    {
      "cell_type": "markdown",
      "source": [
        "Our data is looking very beautifull.It has many features\n",
        "\n",
        "Number of entries : 19735\n",
        "\n",
        "No of features : 27 ( 2 Random Variables included )\n",
        "\n",
        "Target Variable : Appliances\n"
      ],
      "metadata": {
        "id": "irVeXZdWEUTi"
      }
    },
    {
      "cell_type": "markdown",
      "source": [
        "## 3. ***Data Wrangling***"
      ],
      "metadata": {
        "id": "dauF4eBmngu3"
      }
    },
    {
      "cell_type": "markdown",
      "source": [
        "### Data Wrangling Code"
      ],
      "metadata": {
        "id": "bKJF3rekwFvQ"
      }
    },
    {
      "cell_type": "code",
      "source": [
        "# Write your code to make your dataset analysis ready.\n",
        "# Write your code to make your dataset analysis ready.\n",
        "# Create a copy of the current dataset and assigning to df\n",
        "df=appliance_energy.copy()\n",
        "\n",
        "# Checking Shape of True Value\n",
        "print(\"No. of Appliances : -\",len(df[df['Appliances']==True]))\n",
        "# Assigning Appliances data to variable df_Appliances\n",
        "df_Appliances=df[(df['Appliances']==True)]"
      ],
      "metadata": {
        "id": "wk-9a2fpoLcV"
      },
      "execution_count": null,
      "outputs": []
    },
    {
      "cell_type": "code",
      "source": [
        "# T1 data groupby RH_1 Wise\n",
        "pd.DataFrame(df.groupby('T1')['RH_1'].value_counts().reset_index(name=\"Count\"))"
      ],
      "metadata": {
        "id": "fKEga07S8XiJ"
      },
      "execution_count": null,
      "outputs": []
    },
    {
      "cell_type": "code",
      "source": [
        "# Function to get all appliance mean & median while passing appliances and dataframe.\n",
        "def get_mean_median(df,Appliances):\n",
        "  '''\n",
        "  This function returns the mean and median of the whole dataset for a particular area code.\n",
        "\n",
        "  '''\n",
        "  try:\n",
        "    return pd.concat([df[(df['Appliances']==Appliances)].describe().iloc[1],\n",
        "            df[(df['Appliances']==Appliances)].describe().iloc[5]],\n",
        "            axis=1).rename(columns={\"50%\":\"median\"}).fillna(\"-\")\n",
        "  except:\n",
        "    print(\"Invalid Area Code\")"
      ],
      "metadata": {
        "id": "EOhJR9el8c4j"
      },
      "execution_count": null,
      "outputs": []
    },
    {
      "cell_type": "code",
      "source": [
        "# Getting Mean Median for Appliances 270\n",
        "get_mean_median(df=df,Appliances=270)"
      ],
      "metadata": {
        "id": "K3dbsZsr8d6o"
      },
      "execution_count": null,
      "outputs": []
    },
    {
      "cell_type": "markdown",
      "source": [
        "### What all manipulations have you done and insights you found?"
      ],
      "metadata": {
        "id": "MSa1f5Uengrz"
      }
    },
    {
      "cell_type": "markdown",
      "source": [
        "Groupby two variable Temperature and HUmidity and count each values.\n",
        "\n",
        "Getting mean median value for appliance no. 270 is same for mean median(i.e 270.00,270.00) "
      ],
      "metadata": {
        "id": "LbyXE7I1olp8"
      }
    },
    {
      "cell_type": "markdown",
      "source": [
        "## ***4. Data Vizualization, Storytelling & Experimenting with charts : Understand the relationships between variables***"
      ],
      "metadata": {
        "id": "GF8Ens_Soomf"
      }
    },
    {
      "cell_type": "markdown",
      "source": [
        "#### Chart - 1-**Histogram through seaborn**"
      ],
      "metadata": {
        "id": "0wOQAZs5pc--"
      }
    },
    {
      "cell_type": "code",
      "source": [
        "#Distribution of our appliance energy usage:\n",
        "appliance_energy.Appliances.describe()"
      ],
      "metadata": {
        "id": "7v_ESjsspbW7"
      },
      "execution_count": null,
      "outputs": []
    },
    {
      "cell_type": "code",
      "source": [
        "sns.histplot(appliance_energy['Appliances'],binwidth=30)"
      ],
      "metadata": {
        "id": "jgYXvv3ADFM2"
      },
      "execution_count": null,
      "outputs": []
    },
    {
      "cell_type": "markdown",
      "source": [
        "##### 1. Why did you pick the specific chart?"
      ],
      "metadata": {
        "id": "K5QZ13OEpz2H"
      }
    },
    {
      "cell_type": "markdown",
      "source": [
        "Creating a histogram will visually represent the given data set or the data distribution. Histograms display the frequency of the data values and a large amount of data. Therefore, the histogram helps determine the dataset’s median and distribution. Also, this can display any gaps or outliers in the data set."
      ],
      "metadata": {
        "id": "XESiWehPqBRc"
      }
    },
    {
      "cell_type": "markdown",
      "source": [
        "##### 2. What is/are the insight(s) found from the chart?"
      ],
      "metadata": {
        "id": "lQ7QKXXCp7Bj"
      }
    },
    {
      "cell_type": "markdown",
      "source": [
        "**75% of Appliance consumption is less than 100 Wh . With the maximum consumption of 1080 Wh , there will be outliers in this column and there are small number of cases where consumption is very high.**"
      ],
      "metadata": {
        "id": "C_j1G7yiqdRP"
      }
    },
    {
      "cell_type": "markdown",
      "source": [
        "##### 3. Will the gained insights help creating a positive business impact? \n",
        "Are there any insights that lead to negative growth? Justify with specific reason."
      ],
      "metadata": {
        "id": "448CDAPjqfQr"
      }
    },
    {
      "cell_type": "markdown",
      "source": [
        "The main advantages of a histogram are its simplicity and versatility. It can be used in many different situations to offer an insightful look at frequency distribution.\n",
        "\n",
        "In business , histograms can provide a useful tool for analyzing data and trends. They are used when you want to see how the data is distributed and the frequency of occurrence of some measurable event or property. "
      ],
      "metadata": {
        "id": "3cspy4FjqxJW"
      }
    },
    {
      "cell_type": "markdown",
      "source": [
        "#### Chart - 2 **Barplot**"
      ],
      "metadata": {
        "id": "KSlN3yHqYklG"
      }
    },
    {
      "cell_type": "code",
      "source": [
        "# Chart - 2 we can create the columnns for weekday and hour of day , to look for hourwise and Weekay wise analysis\n",
        "\n",
        "\n",
        "import datetime \n",
        "def hour_fet(x):\n",
        "   return pd.to_datetime(x).hour\n",
        "\n",
        "def weekday_fet(x):\n",
        "   return pd.to_datetime(x).weekday()\n",
        "   \n",
        "appliance_energy['hour']=appliance_energy['date'].apply(hour_fet)\n",
        "appliance_energy['weekday']=appliance_energy['date'].apply(weekday_fet)"
      ],
      "metadata": {
        "id": "R4YgtaqtYklH"
      },
      "execution_count": null,
      "outputs": []
    },
    {
      "cell_type": "code",
      "source": [
        "weekday_eng=pd.DataFrame(appliance_energy.groupby('weekday')['Appliances'].mean()).reset_index()\n",
        "sns.barplot(x=weekday_eng['weekday'],y=weekday_eng['Appliances'])"
      ],
      "metadata": {
        "id": "fp4nvkOIR3r-"
      },
      "execution_count": null,
      "outputs": []
    },
    {
      "cell_type": "markdown",
      "source": [
        "**Here we see that , the consumption is higher on weekends , ie week number 0, 6, 5**"
      ],
      "metadata": {
        "id": "lS5HlwFRSvg8"
      }
    },
    {
      "cell_type": "code",
      "source": [
        "hour_eng=pd.DataFrame(appliance_energy.groupby('hour')['Appliances'].mean()).reset_index()\n",
        "sns.barplot(x=hour_eng['hour'],y=hour_eng['Appliances'])"
      ],
      "metadata": {
        "id": "1gpWy5G7SmwN"
      },
      "execution_count": null,
      "outputs": []
    },
    {
      "cell_type": "markdown",
      "source": [
        "**Here we see that the consumption is high in the evening time , ie hour between 16 and 20**"
      ],
      "metadata": {
        "id": "U4rl0NDaS21w"
      }
    },
    {
      "cell_type": "markdown",
      "source": [
        "##### 1. Why did you pick the specific chart?"
      ],
      "metadata": {
        "id": "t6dVpIINYklI"
      }
    },
    {
      "cell_type": "markdown",
      "source": [
        "A bar chart describes the comparisons between the discrete categories."
      ],
      "metadata": {
        "id": "5aaW0BYyYklI"
      }
    },
    {
      "cell_type": "markdown",
      "source": [
        "##### 2. What is/are the insight(s) found from the chart?"
      ],
      "metadata": {
        "id": "ijmpgYnKYklI"
      }
    },
    {
      "cell_type": "markdown",
      "source": [
        "**For weedays analysis ,the consumption is higher on weekends , ie week number 0, 6, 5**\n",
        "\n",
        "**For hour analysis ,the consumption is high in the evening time , ie hour between 16 and 20**"
      ],
      "metadata": {
        "id": "PSx9atu2YklI"
      }
    },
    {
      "cell_type": "markdown",
      "source": [
        "##### 3. Will the gained insights help creating a positive business impact? \n",
        "Are there any insights that lead to negative growth? Justify with specific reason."
      ],
      "metadata": {
        "id": "-JiQyfWJYklI"
      }
    },
    {
      "cell_type": "markdown",
      "source": [
        "**This insights help in creating the Businesses use column or bar charts to compare products or to show how much is used each day. This type of chart lends itself well as a comparison tool, as it's easy to visually see which item's column or bar is taller or longer.**\n",
        "\n",
        "**Negative aspects:\n",
        "Bar charts do not show sufficient detail. This presents a risk of schedule slippages, time overruns, improper decisions and contract complications.**"
      ],
      "metadata": {
        "id": "BcBbebzrYklV"
      }
    },
    {
      "cell_type": "markdown",
      "source": [
        "#### Chart -3 - **Correlation Heatmap**"
      ],
      "metadata": {
        "id": "NC_X3p0fY2L0"
      }
    },
    {
      "cell_type": "code",
      "source": [
        "# Correlation Heatmap visualization code\n",
        "plt.figure(figsize=(12,15))\n",
        "sns.heatmap(appliance_energy.corr(),annot=True)"
      ],
      "metadata": {
        "id": "xyC9zolEZNRQ"
      },
      "execution_count": null,
      "outputs": []
    },
    {
      "cell_type": "markdown",
      "source": [
        "##### 1. Why did you pick the specific chart?"
      ],
      "metadata": {
        "id": "UV0SzAkaZNRQ"
      }
    },
    {
      "cell_type": "markdown",
      "source": [
        "Because it help in reviewing and analyzing heat map data to gather insights about user interaction and behavior as they engage with our product."
      ],
      "metadata": {
        "id": "DVPuT8LYZNRQ"
      }
    },
    {
      "cell_type": "markdown",
      "source": [
        "##### 2. What is/are the insight(s) found from the chart?"
      ],
      "metadata": {
        "id": "YPEH6qLeZNRQ"
      }
    },
    {
      "cell_type": "markdown",
      "source": [
        "**From here we see a particular square region as highly correlated , as they are different temperature of same house ,and humidity of same house**"
      ],
      "metadata": {
        "id": "bfSqtnDqZNRR"
      }
    },
    {
      "cell_type": "markdown",
      "source": [
        "#### Chart - 4 **Distribution Plot**"
      ],
      "metadata": {
        "id": "EM7whBJCYoAo"
      }
    },
    {
      "cell_type": "code",
      "source": [
        "# Chart - 4 lets break into three parts\n",
        "temp_col=['T1','T2','T3','T4','T5','T6','T7','T8','T9']\n",
        "hum_col=['RH_1','RH_2','RH_3','RH_4','RH_5','RH_6','RH_7','RH_8','RH_9']\n",
        "other_col=['T_out', 'Press_mm_hg', 'RH_out', 'Windspeed','Visibility', 'Tdewpoint', 'rv1', 'rv2']\n",
        "     "
      ],
      "metadata": {
        "id": "t6GMdE67YoAp"
      },
      "execution_count": null,
      "outputs": []
    },
    {
      "cell_type": "code",
      "source": [
        "#first lets study temperature\n",
        "for i in temp_col:\n",
        "  plt.figure(figsize=(10,8))\n",
        "  sns.displot(appliance_energy[i],color='blue')"
      ],
      "metadata": {
        "id": "ZOMzWsaItXUb"
      },
      "execution_count": null,
      "outputs": []
    },
    {
      "cell_type": "code",
      "source": [
        "#Now lets study Humidity\n",
        "for i in hum_col:\n",
        "  plt.figure(figsize=(10,8))\n",
        "  sns.displot(appliance_energy[i],color='yellow')"
      ],
      "metadata": {
        "id": "pLwpxkR2zVob"
      },
      "execution_count": null,
      "outputs": []
    },
    {
      "cell_type": "code",
      "source": [
        "\n",
        " #Now lets study target variable distribution\n",
        " plt.figure(figsize=(20,9))\n",
        " sns.displot(appliance_energy['Appliances'],color='pink')\n",
        " "
      ],
      "metadata": {
        "id": "Hj6LUJ0G0R3e"
      },
      "execution_count": null,
      "outputs": []
    },
    {
      "cell_type": "markdown",
      "source": [
        "##### 1. Why did you pick the specific chart?"
      ],
      "metadata": {
        "id": "fge-S5ZAYoAp"
      }
    },
    {
      "cell_type": "markdown",
      "source": [
        "Distplot(Distribution plot) is used to observe how the data is distributed in a particular dataset. More specificly, distplot is one kind of Univariate Distribution Plot .That is the reason I prefer to use this chart because its show the data is distributed ."
      ],
      "metadata": {
        "id": "5dBItgRVYoAp"
      }
    },
    {
      "cell_type": "markdown",
      "source": [
        "##### 2. What is/are the insight(s) found from the chart?"
      ],
      "metadata": {
        "id": "85gYPyotYoAp"
      }
    },
    {
      "cell_type": "markdown",
      "source": [
        "\n",
        "\n",
        "*  All humidity values except RH_6 and RH_out follow a Normal distribution, i.e all the readings from sensors inside the home are from a Normal distribution..\n",
        "*   Similarly, all temperature readings follow a Normal distribution except for T9.\n",
        "\n",
        "*  Out of the remaining columns, we can see that Visibility, Windspeed and Appliances are skewed.\n",
        "*   The output variable Appliances has most values less than 200Wh, showing that high energy consumption cases are very low.\n",
        "\n",
        "*  No column has a distribution like the target variable Appliances.\n",
        "* Hence, there are no feature independent feature with a linear relationship with the target."
      ],
      "metadata": {
        "id": "4jstXR6OYoAp"
      }
    },
    {
      "cell_type": "markdown",
      "source": [
        "##### 3. Will the gained insights help creating a positive business impact? \n",
        "Are there any insights that lead to negative growth? Justify with specific reason."
      ],
      "metadata": {
        "id": "RoGjAbkUYoAp"
      }
    },
    {
      "cell_type": "markdown",
      "source": [
        "**Positive Impact** : It helps to determine certain characteristics of the data and also provides as a base for using other certain statistical tools for decision making."
      ],
      "metadata": {
        "id": "zfJ8IqMcYoAp"
      }
    },
    {
      "cell_type": "markdown",
      "source": [
        "## **5. Solution to Business Objective**"
      ],
      "metadata": {
        "id": "JcMwzZxoAimU"
      }
    },
    {
      "cell_type": "markdown",
      "source": [
        "#### What do you suggest the client to achieve Business Objective ? \n",
        "Explain Briefly."
      ],
      "metadata": {
        "id": "8G2x9gOozGDZ"
      }
    },
    {
      "cell_type": "markdown",
      "source": [
        "In business , histograms can provide a useful tool for analyzing data and trends. They are used when you want to see how the data is distributed and the frequency of occurrence of some measurable event or property.\n",
        "\n",
        "Businesses use column or bar charts to compare products or to show how much is used each day. This type of chart lends itself well as a comparison tool, as it's easy to visually see which item's column or bar is taller or longer."
      ],
      "metadata": {
        "id": "pASKb0qOza21"
      }
    },
    {
      "cell_type": "markdown",
      "source": [
        "# **Conclusion**"
      ],
      "metadata": {
        "id": "gCX9965dhzqZ"
      }
    },
    {
      "cell_type": "markdown",
      "source": [
        "In this project, we have examined various concrete formulations with different Appliancess. We developed a graphs/charts that aligns to the available information. Utilizing model as a framework, we developed a fresh formulation and, being used to predicted the Appliances. \n",
        "\n",
        "In histogram charts, 75% of Appliance consumption is less than 100 Wh . With the maximum consumption of 1080 Wh , there will be outliers in this column and there are small number of cases where consumption is very high.\n",
        "\n",
        " The Insights from bar chart analysis for weedays  ,the consumption is higher on weekends , ie week number 0, 6, 5\n",
        "\n",
        "For hour analysis ,the consumption is high in the evening time , ie hour between 16 and 20 \n",
        "\n",
        "With the hep of EDA ,one can easily analyse the datasets ."
      ],
      "metadata": {
        "id": "Fjb1IsQkh3yE"
      }
    },
    {
      "cell_type": "markdown",
      "source": [
        "### ***Hurrah! You have successfully completed your EDA Capstone Project !!!***"
      ],
      "metadata": {
        "id": "gIfDvo9L0UH2"
      }
    }
  ]
}